{
 "metadata": {
  "language_info": {
   "codemirror_mode": {
    "name": "ipython",
    "version": 3
   },
   "file_extension": ".py",
   "mimetype": "text/x-python",
   "name": "python",
   "nbconvert_exporter": "python",
   "pygments_lexer": "ipython3",
   "version": 3
  },
  "orig_nbformat": 2,
  "kernelspec": {
   "name": "python_defaultSpec_1596990945457",
   "display_name": "Python 3.8.3 32-bit"
  }
 },
 "nbformat": 4,
 "nbformat_minor": 2,
 "cells": [
  {
   "cell_type": "code",
   "execution_count": 27,
   "metadata": {},
   "outputs": [
    {
     "output_type": "execute_result",
     "data": {
      "text/plain": "{1: 'Hokkaido', 2: 'Aomori', 3: 'Iwate'}"
     },
     "metadata": {},
     "execution_count": 27
    }
   ],
   "source": [
    "prefecture_of_japan = {1: 'Hokkaido', 2: 'Aomori', 3: 'Iwate'}\n",
    "prefecture_of_japan"
   ]
  },
  {
   "cell_type": "code",
   "execution_count": 18,
   "metadata": {},
   "outputs": [
    {
     "output_type": "execute_result",
     "data": {
      "text/plain": "'Hokkaido'"
     },
     "metadata": {},
     "execution_count": 18
    }
   ],
   "source": [
    "prefecture_of_japan[1]"
   ]
  },
  {
   "cell_type": "code",
   "execution_count": 19,
   "metadata": {
    "tags": []
   },
   "outputs": [
    {
     "output_type": "stream",
     "name": "stdout",
     "text": "None\n"
    }
   ],
   "source": [
    "print(prefecture_of_japan.get(0))"
   ]
  },
  {
   "cell_type": "code",
   "execution_count": 20,
   "metadata": {
    "tags": []
   },
   "outputs": [
    {
     "output_type": "stream",
     "name": "stdout",
     "text": "Hokkaido\n"
    }
   ],
   "source": [
    "print(prefecture_of_japan.get(1))"
   ]
  },
  {
   "cell_type": "code",
   "execution_count": 21,
   "metadata": {
    "tags": []
   },
   "outputs": [
    {
     "output_type": "stream",
     "name": "stdout",
     "text": "Not Found\n"
    }
   ],
   "source": [
    "print(prefecture_of_japan.get(0, 'Not Found'))"
   ]
  },
  {
   "cell_type": "code",
   "execution_count": 22,
   "metadata": {},
   "outputs": [
    {
     "output_type": "execute_result",
     "data": {
      "text/plain": "{1: 'Hokkaido', 2: 'Aomori', 3: 'Iwate', 4: 'Miyagi'}"
     },
     "metadata": {},
     "execution_count": 22
    }
   ],
   "source": [
    "prefecture_of_japan[4] = 'Miyagi'\n",
    "prefecture_of_japan"
   ]
  },
  {
   "cell_type": "code",
   "execution_count": 23,
   "metadata": {},
   "outputs": [
    {
     "output_type": "execute_result",
     "data": {
      "text/plain": "True"
     },
     "metadata": {},
     "execution_count": 23
    }
   ],
   "source": [
    "1 in prefecture_of_japan"
   ]
  },
  {
   "cell_type": "code",
   "execution_count": 24,
   "metadata": {},
   "outputs": [
    {
     "output_type": "execute_result",
     "data": {
      "text/plain": "{1: 'Hokkaido', 2: 'Aomori', 3: 'Iwate'}"
     },
     "metadata": {},
     "execution_count": 24
    }
   ],
   "source": [
    "del prefecture_of_japan[4]\n",
    "prefecture_of_japan"
   ]
  },
  {
   "cell_type": "code",
   "execution_count": 28,
   "metadata": {},
   "outputs": [
    {
     "output_type": "execute_result",
     "data": {
      "text/plain": "'Iwate'"
     },
     "metadata": {},
     "execution_count": 28
    }
   ],
   "source": [
    "prefecture_of_japan.pop(3)"
   ]
  },
  {
   "cell_type": "code",
   "execution_count": 29,
   "metadata": {},
   "outputs": [
    {
     "output_type": "execute_result",
     "data": {
      "text/plain": "{1: 'Hokkaido', 2: 'Aomori'}"
     },
     "metadata": {},
     "execution_count": 29
    }
   ],
   "source": [
    "prefecture_of_japan"
   ]
  },
  {
   "cell_type": "code",
   "execution_count": 30,
   "metadata": {},
   "outputs": [
    {
     "output_type": "execute_result",
     "data": {
      "text/plain": "{}"
     },
     "metadata": {},
     "execution_count": 30
    }
   ],
   "source": [
    "prefecture_of_japan.clear()\n",
    "prefecture_of_japan"
   ]
  },
  {
   "cell_type": "code",
   "execution_count": 31,
   "metadata": {
    "tags": []
   },
   "outputs": [
    {
     "output_type": "stream",
     "name": "stdout",
     "text": "1\n2\n3\n"
    }
   ],
   "source": [
    "prefecture_of_japan = {1: 'Hokkaido', 2: 'Aomori', 3: 'Iwate'}\n",
    "for x in prefecture_of_japan:\n",
    "    print(x)"
   ]
  },
  {
   "cell_type": "code",
   "execution_count": 32,
   "metadata": {
    "tags": []
   },
   "outputs": [
    {
     "output_type": "stream",
     "name": "stdout",
     "text": "1\n2\n3\n"
    }
   ],
   "source": [
    "for x in prefecture_of_japan.keys():\n",
    "    print(x)"
   ]
  },
  {
   "cell_type": "code",
   "execution_count": 33,
   "metadata": {
    "tags": []
   },
   "outputs": [
    {
     "output_type": "stream",
     "name": "stdout",
     "text": "Hokkaido\nAomori\nIwate\n"
    }
   ],
   "source": [
    "for x in prefecture_of_japan.values():\n",
    "    print(x)"
   ]
  },
  {
   "cell_type": "code",
   "execution_count": 34,
   "metadata": {
    "tags": []
   },
   "outputs": [
    {
     "output_type": "stream",
     "name": "stdout",
     "text": "1 Hokkaido\n2 Aomori\n3 Iwate\n"
    }
   ],
   "source": [
    "for key, x in prefecture_of_japan.items():\n",
    "    print(key, x)"
   ]
  },
  {
   "cell_type": "code",
   "execution_count": 35,
   "metadata": {},
   "outputs": [
    {
     "output_type": "execute_result",
     "data": {
      "text/plain": "{1: 'Hokkaido', 2: 'Aomori', 3: 'Iwate'}"
     },
     "metadata": {},
     "execution_count": 35
    }
   ],
   "source": [
    "list1 = [1, 2, 3]\n",
    "list2 = ['Hokkaido', 'Aomori', 'Iwate']\n",
    "dict(zip(list1, list2))"
   ]
  },
  {
   "cell_type": "code",
   "execution_count": 36,
   "metadata": {
    "tags": []
   },
   "outputs": [
    {
     "output_type": "stream",
     "name": "stdout",
     "text": "Tokyo\nYuurakuchou\nShinbashi\n"
    }
   ],
   "source": [
    "yamanote_line = {0: 'Tokyo', 1: 'Yuurakuchou', 2: 'Shinbashi'}\n",
    "for v in yamanote_line.values():\n",
    "    print(v)"
   ]
  },
  {
   "cell_type": "code",
   "execution_count": 37,
   "metadata": {},
   "outputs": [
    {
     "output_type": "execute_result",
     "data": {
      "text/plain": "[['0001', 'Male', 'yamada', 'Tarou', 25, 'Tokyo'],\n ['0002', 'Male', 'Satou', 'Takeshi', 27, 'Kanagawa'],\n ['0003', 'Female', 'Tanaka', 'Yuto', 25, 'Saitama'],\n ['0004', 'Male', 'Suzuki', 'Ichirou', 35, 'Hokkaido']]"
     },
     "metadata": {},
     "execution_count": 37
    }
   ],
   "source": [
    "#表データの作成\n",
    "data = [['0001', 'Male', 'yamada', 'Tarou', 25, 'Tokyo'], ['0002', 'Male', 'Satou', 'Takeshi', 27, 'Kanagawa'], ['0003', 'Female', 'Tanaka', 'Yuto', 25, 'Saitama'], ['0004', 'Male', 'Suzuki', 'Ichirou', 35, 'Hokkaido']]\n",
    "data"
   ]
  },
  {
   "cell_type": "code",
   "execution_count": 38,
   "metadata": {},
   "outputs": [],
   "source": [
    "#辞書変数生成\n",
    "member_infomation = {}\n",
    "\n",
    "#表データをレコード毎に格納する\n",
    "for record in data:\n",
    "    key = record[0]\n",
    "    info = record[1:]\n",
    "    member_infomation[key] = info"
   ]
  },
  {
   "cell_type": "code",
   "execution_count": 39,
   "metadata": {
    "tags": []
   },
   "outputs": [
    {
     "output_type": "stream",
     "name": "stdout",
     "text": "number\tinformation\n0001 ['Male', 'yamada', 'Tarou', 25, 'Tokyo']\n0002 ['Male', 'Satou', 'Takeshi', 27, 'Kanagawa']\n0003 ['Female', 'Tanaka', 'Yuto', 25, 'Saitama']\n0004 ['Male', 'Suzuki', 'Ichirou', 35, 'Hokkaido']\n"
    }
   ],
   "source": [
    "#結果を表示する\n",
    "print('number', 'information', sep='\\t')\n",
    "for key, info in member_infomation.items():\n",
    "    print(key, info)"
   ]
  }
 ]
}